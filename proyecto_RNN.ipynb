{
 "cells": [
  {
   "cell_type": "markdown",
   "metadata": {},
   "source": [
    "# Proyecto Data Science"
   ]
  },
  {
   "cell_type": "markdown",
   "metadata": {},
   "source": [
    "## Estimación de la producción acumulada de petróleo y gas"
   ]
  },
  {
   "cell_type": "markdown",
   "metadata": {},
   "source": [
    "<font color='Black' size='4px'>Realizado por Rafael Marcano</font>"
   ]
  },
  {
   "cell_type": "markdown",
   "metadata": {},
   "source": [
    "## Introducción"
   ]
  },
  {
   "cell_type": "markdown",
   "metadata": {},
   "source": [
    "<font color='Black' size='4px'>Este proyecto trata de realizar la estimación de la producción petrolera.</font>"
   ]
  },
  {
   "cell_type": "markdown",
   "metadata": {},
   "source": [
    "<font color='Black' size='4px'>En los datos encontramos secuencias de longitud arbitraria por lo tanto se usará redes neuronales recurrentes (RNN).</font>"
   ]
  },
  {
   "cell_type": "markdown",
   "metadata": {},
   "source": [
    "<font color='Black' size='4px'>Con tensorflow y Keras en general se hará la construcción del modelo</font>"
   ]
  },
  {
   "cell_type": "markdown",
   "metadata": {},
   "source": [
    "## Librerias"
   ]
  },
  {
   "cell_type": "code",
   "execution_count": 1,
   "metadata": {},
   "outputs": [],
   "source": [
    "import os\n",
    "import numpy as np\n",
    "import pandas as pd\n",
    "import seaborn as sns\n",
    "import matplotlib.pyplot as plt\n",
    "from productionScript import Production\n",
    "from sklearn.preprocessing import MinMaxScaler\n",
    "from tensorflow.keras.models import Sequential\n",
    "from tensorflow.keras.layers import Dense, Dropout, LSTM"
   ]
  },
  {
   "cell_type": "code",
   "execution_count": 2,
   "metadata": {},
   "outputs": [],
   "source": [
    "root = \"/home/rafael/Documentos/Produccion_Petrolera_Data/DATALOGGER/\"\n",
    "fileNames = \"productionList.txt\""
   ]
  },
  {
   "cell_type": "code",
   "execution_count": 3,
   "metadata": {},
   "outputs": [],
   "source": [
    "class Read:\n",
    "    def __init__(self, year):\n",
    "        self.year = year\n",
    "\n",
    "    def documents(self):\n",
    "        filesList = []\n",
    "        commandLine = \"ls \" + root + str(self.year) + \" > \" + fileNames\n",
    "        try:\n",
    "            os.system(commandLine)\n",
    "            file = pd.read_csv(fileNames, sep=\"\\t\", header= None, squeeze=True)\n",
    "            for element in file:\n",
    "                filesList.append(root + str(self.year) + \"/\" + element)\n",
    "        except FileNotFoundError as fnf_error:\n",
    "            print(fnf_error)\n",
    "        return filesList"
   ]
  },
  {
   "cell_type": "code",
   "execution_count": 4,
   "metadata": {},
   "outputs": [],
   "source": [
    "class Data:\n",
    "    def __init__(self, year):\n",
    "        self.year = year\n",
    "        self.documents = Read(year).documents()\n",
    "        \n",
    "    def load(self):\n",
    "        content = []\n",
    "        headers = []\n",
    "        count = 0\n",
    "        try:\n",
    "            for element in self.documents:\n",
    "                count += 1\n",
    "                # print(\"Reading file n° {} ...\".format(count))\n",
    "                columns = [\"Date\", \"Time\"]\n",
    "                data = []\n",
    "                file = pd.read_csv(element, sep=\"\\t\", header= None, squeeze=True)\n",
    "                obj = pd.DataFrame(file)\n",
    "            #     # Reading current document\n",
    "                for line in file:\n",
    "                    data += [line.split()]\n",
    "                content.append(data)\n",
    "                cols = obj.loc[obj[0].str.contains('Tool')]\n",
    "                size = list(range(0, len(cols)))\n",
    "                for k in size:\n",
    "                    for names in [\"Press\", \"Temp\"]:\n",
    "                        columns.append(names + \" \" + cols[0].tolist()[k].split()[4:][1])\n",
    "                headers.append(columns)\n",
    "        except:\n",
    "            print(\"No se puedo obtener datos del directorio \", element)\n",
    "        return [content, headers]"
   ]
  },
  {
   "cell_type": "code",
   "execution_count": 5,
   "metadata": {},
   "outputs": [],
   "source": [
    "class Frame:\n",
    "    def __init__(self, year):\n",
    "        self.year = year\n",
    "        self.load = Data(self.year).load()\n",
    "        self.data_headers = self.load[1]\n",
    "        self.data = self.load[0]\n",
    "        \n",
    "    def build(self, well):\n",
    "        target = \"Press {}\".format(well)\n",
    "        frames = []\n",
    "        # Getting content index\n",
    "        for current_headers in self.data_headers:\n",
    "            if target in current_headers:\n",
    "                frame_targets = [i for i,x in enumerate(self.data_headers) if x==current_headers]\n",
    "        # Building data frame\n",
    "        try:\n",
    "            for k in frame_targets:\n",
    "                columnsRanges = list(range(0,len(self.data_headers[k])))\n",
    "                frame = pd.DataFrame(self.data[k]).iloc[:,columnsRanges]\n",
    "                index = frame[frame[0] == \"DATE\"].index\n",
    "                obj = frame.drop(range(0,index[0]+int(4)))\n",
    "                obj[0] = pd.to_datetime(obj[0], infer_datetime_format=True)\n",
    "                obj[1] = pd.to_timedelta(obj[1])\n",
    "                obj.columns = self.data_headers[k]\n",
    "                frames.append(obj)\n",
    "                # print(\"Building data frames ...\")\n",
    "        except AssertionError as error:\n",
    "            print(error)\n",
    "        return frames"
   ]
  },
  {
   "cell_type": "code",
   "execution_count": 6,
   "metadata": {},
   "outputs": [],
   "source": [
    "class Parameters:\n",
    "    def __init__(self, well, year):\n",
    "        self.year = year\n",
    "        self.well = well\n",
    "        self.frames = Frame(self.year).build(self.well)\n",
    "\n",
    "    def getWell(self):\n",
    "        data = []\n",
    "        frame = []\n",
    "        try:\n",
    "            data = pd.concat(self.frames)\n",
    "            columns = [\"Date\", \"Press \" + self.well, \"Temp \" + self.well]\n",
    "            frame = pd.DataFrame(data[columns])\n",
    "            #frame[[\"Press \" + self.well, \"Temp \" + self.well]] = frame[[\"Press \" + self.well, \"Temp \" + self.well]].astype(float)\n",
    "            # well_data = frame.groupby([\"Date\"]).mean().dropna()\n",
    "            print(\"DataFrame {} creado exitosamente.\".format(self.well))\n",
    "        except AssertionError as error:\n",
    "            print(error)\n",
    "        return frame"
   ]
  },
  {
   "cell_type": "markdown",
   "metadata": {},
   "source": [
    "# Carga de datos"
   ]
  },
  {
   "cell_type": "markdown",
   "metadata": {},
   "source": [
    "## Pozo AP-01"
   ]
  },
  {
   "cell_type": "markdown",
   "metadata": {},
   "source": [
    "<font color='Black' size='4px'>Obteniendo parametros de presión y temperatura</font>"
   ]
  },
  {
   "cell_type": "code",
   "execution_count": 7,
   "metadata": {},
   "outputs": [
    {
     "name": "stdout",
     "output_type": "stream",
     "text": [
      "DataFrame AP-01 creado exitosamente.\n"
     ]
    }
   ],
   "source": [
    "param_AP01_2009 = Parameters('AP-01', 2009)\n",
    "param_AP01_2009 = param_AP01_2009.getWell()\n",
    "prod_AP01 = Production('AP-01')\n",
    "well_prod_ap01 = prod_AP01.Frame()"
   ]
  },
  {
   "cell_type": "markdown",
   "metadata": {},
   "source": [
    "<font color='Black' size='4px'>Uniendo data parametros y producción en un solo Data Frame</font>"
   ]
  },
  {
   "cell_type": "code",
   "execution_count": 8,
   "metadata": {},
   "outputs": [],
   "source": [
    "well_prod_ap01.columns = [\"Date\", \"Oil\", \"Gas\"]\n",
    "well_prod_ap01[\"Date\"] = pd.to_datetime(well_prod_ap01[\"Date\"], infer_datetime_format=True)\n",
    "data_set = pd.merge(param_AP01_2009, well_prod_ap01, on=\"Date\")"
   ]
  },
  {
   "cell_type": "code",
   "execution_count": 9,
   "metadata": {},
   "outputs": [
    {
     "data": {
      "text/html": [
       "<div>\n",
       "<style scoped>\n",
       "    .dataframe tbody tr th:only-of-type {\n",
       "        vertical-align: middle;\n",
       "    }\n",
       "\n",
       "    .dataframe tbody tr th {\n",
       "        vertical-align: top;\n",
       "    }\n",
       "\n",
       "    .dataframe thead th {\n",
       "        text-align: right;\n",
       "    }\n",
       "</style>\n",
       "<table border=\"1\" class=\"dataframe\">\n",
       "  <thead>\n",
       "    <tr style=\"text-align: right;\">\n",
       "      <th></th>\n",
       "      <th>Date</th>\n",
       "      <th>Press AP-01</th>\n",
       "      <th>Temp AP-01</th>\n",
       "      <th>Oil</th>\n",
       "      <th>Gas</th>\n",
       "    </tr>\n",
       "  </thead>\n",
       "  <tbody>\n",
       "    <tr>\n",
       "      <th>count</th>\n",
       "      <td>1070662</td>\n",
       "      <td>1070662</td>\n",
       "      <td>1070662</td>\n",
       "      <td>1.070662e+06</td>\n",
       "      <td>1.070662e+06</td>\n",
       "    </tr>\n",
       "    <tr>\n",
       "      <th>unique</th>\n",
       "      <td>333</td>\n",
       "      <td>17599</td>\n",
       "      <td>4</td>\n",
       "      <td>3.310000e+02</td>\n",
       "      <td>3.310000e+02</td>\n",
       "    </tr>\n",
       "    <tr>\n",
       "      <th>top</th>\n",
       "      <td>2009-01-25 00:00:00</td>\n",
       "      <td>2322.410</td>\n",
       "      <td>156.000</td>\n",
       "      <td>1.441532e+06</td>\n",
       "      <td>7.503989e+08</td>\n",
       "    </tr>\n",
       "    <tr>\n",
       "      <th>freq</th>\n",
       "      <td>5764</td>\n",
       "      <td>10065</td>\n",
       "      <td>549581</td>\n",
       "      <td>5.764000e+03</td>\n",
       "      <td>5.764000e+03</td>\n",
       "    </tr>\n",
       "    <tr>\n",
       "      <th>first</th>\n",
       "      <td>2009-01-08 00:00:00</td>\n",
       "      <td>NaN</td>\n",
       "      <td>NaN</td>\n",
       "      <td>NaN</td>\n",
       "      <td>NaN</td>\n",
       "    </tr>\n",
       "    <tr>\n",
       "      <th>last</th>\n",
       "      <td>2010-01-02 00:00:00</td>\n",
       "      <td>NaN</td>\n",
       "      <td>NaN</td>\n",
       "      <td>NaN</td>\n",
       "      <td>NaN</td>\n",
       "    </tr>\n",
       "  </tbody>\n",
       "</table>\n",
       "</div>"
      ],
      "text/plain": [
       "                       Date Press AP-01 Temp AP-01           Oil           Gas\n",
       "count               1070662     1070662    1070662  1.070662e+06  1.070662e+06\n",
       "unique                  333       17599          4  3.310000e+02  3.310000e+02\n",
       "top     2009-01-25 00:00:00    2322.410    156.000  1.441532e+06  7.503989e+08\n",
       "freq                   5764       10065     549581  5.764000e+03  5.764000e+03\n",
       "first   2009-01-08 00:00:00         NaN        NaN           NaN           NaN\n",
       "last    2010-01-02 00:00:00         NaN        NaN           NaN           NaN"
      ]
     },
     "execution_count": 9,
     "metadata": {},
     "output_type": "execute_result"
    }
   ],
   "source": [
    "data_set.describe()"
   ]
  },
  {
   "cell_type": "code",
   "execution_count": 10,
   "metadata": {},
   "outputs": [],
   "source": [
    "#start_date = '2009-01-01'\n",
    "#end_date = '2009-12-31'\n",
    "#mask = (well_prod_ap01['Date'] > start_date) & (well_prod_ap01['Date'] <= end_date)\n",
    "#well_prod_ap01 = well_prod_ap01.loc[mask]"
   ]
  },
  {
   "cell_type": "markdown",
   "metadata": {},
   "source": [
    "<font color='Black' size='4px'>Formateando el tipo de datos.</font>"
   ]
  },
  {
   "cell_type": "code",
   "execution_count": 11,
   "metadata": {},
   "outputs": [],
   "source": [
    "data_set[[\"Press AP-01\", \"Temp AP-01\", \"Oil\", \"Gas\"]] = data_set[[\"Press AP-01\", \"Temp AP-01\", \"Oil\", \"Gas\"]].astype(float)\n",
    "data_set = data_set.groupby(\"Date\").mean().dropna()"
   ]
  },
  {
   "cell_type": "markdown",
   "metadata": {},
   "source": [
    "<font color='black' size='4px'>Trazos de relaciones por pares del conjunto de datos</font>\n"
   ]
  },
  {
   "cell_type": "code",
   "execution_count": 12,
   "metadata": {
    "scrolled": false
   },
   "outputs": [
    {
     "name": "stderr",
     "output_type": "stream",
     "text": [
      "/home/rafael/anaconda3/lib/python3.7/site-packages/scipy/stats/stats.py:1713: FutureWarning: Using a non-tuple sequence for multidimensional indexing is deprecated; use `arr[tuple(seq)]` instead of `arr[seq]`. In the future this will be interpreted as an array index, `arr[np.array(seq)]`, which will result either in an error or a different result.\n",
      "  return np.add.reduce(sorted[indexer] * weights, axis=axis) / sumval\n"
     ]
    },
    {
     "data": {
      "image/png": "[encoded data removed]",
      "text/plain": [
       "<Figure size 720x720 with 20 Axes>"
      ]
     },
     "metadata": {
      "needs_background": "light"
     },
     "output_type": "display_data"
    }
   ],
   "source": [
    "g = sns.pairplot(data_set, diag_kind=\"kde\")"
   ]
  },
  {
   "cell_type": "markdown",
   "metadata": {},
   "source": [
    "<font color='Black' size='4px'>Datos estadísticos</font>"
   ]
  },
  {
   "cell_type": "code",
   "execution_count": 13,
   "metadata": {},
   "outputs": [
    {
     "data": {
      "text/html": [
       "<div>\n",
       "<style scoped>\n",
       "    .dataframe tbody tr th:only-of-type {\n",
       "        vertical-align: middle;\n",
       "    }\n",
       "\n",
       "    .dataframe tbody tr th {\n",
       "        vertical-align: top;\n",
       "    }\n",
       "\n",
       "    .dataframe thead th {\n",
       "        text-align: right;\n",
       "    }\n",
       "</style>\n",
       "<table border=\"1\" class=\"dataframe\">\n",
       "  <thead>\n",
       "    <tr style=\"text-align: right;\">\n",
       "      <th></th>\n",
       "      <th>Press AP-01</th>\n",
       "      <th>Temp AP-01</th>\n",
       "      <th>Oil</th>\n",
       "      <th>Gas</th>\n",
       "    </tr>\n",
       "  </thead>\n",
       "  <tbody>\n",
       "    <tr>\n",
       "      <th>count</th>\n",
       "      <td>333.000000</td>\n",
       "      <td>333.000000</td>\n",
       "      <td>3.330000e+02</td>\n",
       "      <td>3.330000e+02</td>\n",
       "    </tr>\n",
       "    <tr>\n",
       "      <th>mean</th>\n",
       "      <td>2339.045064</td>\n",
       "      <td>155.511013</td>\n",
       "      <td>1.313470e+06</td>\n",
       "      <td>6.744679e+08</td>\n",
       "    </tr>\n",
       "    <tr>\n",
       "      <th>std</th>\n",
       "      <td>43.992218</td>\n",
       "      <td>0.438133</td>\n",
       "      <td>2.984554e+05</td>\n",
       "      <td>1.449765e+08</td>\n",
       "    </tr>\n",
       "    <tr>\n",
       "      <th>min</th>\n",
       "      <td>2275.965305</td>\n",
       "      <td>154.969134</td>\n",
       "      <td>7.597161e+05</td>\n",
       "      <td>4.051087e+08</td>\n",
       "    </tr>\n",
       "    <tr>\n",
       "      <th>25%</th>\n",
       "      <td>2307.189695</td>\n",
       "      <td>155.000000</td>\n",
       "      <td>1.064799e+06</td>\n",
       "      <td>5.533765e+08</td>\n",
       "    </tr>\n",
       "    <tr>\n",
       "      <th>50%</th>\n",
       "      <td>2326.360590</td>\n",
       "      <td>155.500000</td>\n",
       "      <td>1.333060e+06</td>\n",
       "      <td>6.854821e+08</td>\n",
       "    </tr>\n",
       "    <tr>\n",
       "      <th>75%</th>\n",
       "      <td>2364.612697</td>\n",
       "      <td>155.997917</td>\n",
       "      <td>1.571881e+06</td>\n",
       "      <td>8.017503e+08</td>\n",
       "    </tr>\n",
       "    <tr>\n",
       "      <th>max</th>\n",
       "      <td>2456.862776</td>\n",
       "      <td>156.000000</td>\n",
       "      <td>1.800650e+06</td>\n",
       "      <td>9.085322e+08</td>\n",
       "    </tr>\n",
       "  </tbody>\n",
       "</table>\n",
       "</div>"
      ],
      "text/plain": [
       "       Press AP-01  Temp AP-01           Oil           Gas\n",
       "count   333.000000  333.000000  3.330000e+02  3.330000e+02\n",
       "mean   2339.045064  155.511013  1.313470e+06  6.744679e+08\n",
       "std      43.992218    0.438133  2.984554e+05  1.449765e+08\n",
       "min    2275.965305  154.969134  7.597161e+05  4.051087e+08\n",
       "25%    2307.189695  155.000000  1.064799e+06  5.533765e+08\n",
       "50%    2326.360590  155.500000  1.333060e+06  6.854821e+08\n",
       "75%    2364.612697  155.997917  1.571881e+06  8.017503e+08\n",
       "max    2456.862776  156.000000  1.800650e+06  9.085322e+08"
      ]
     },
     "execution_count": 13,
     "metadata": {},
     "output_type": "execute_result"
    }
   ],
   "source": [
    "data_set.describe()"
   ]
  },
  {
   "cell_type": "code",
   "execution_count": 14,
   "metadata": {},
   "outputs": [
    {
     "data": {
      "text/plain": [
       "[<matplotlib.lines.Line2D at 0x7f5ce7b4f1d0>]"
      ]
     },
     "execution_count": 14,
     "metadata": {},
     "output_type": "execute_result"
    },
    {
     "data": {
      "image/png": "[encoded data removed]",
      "text/plain": [
       "<Figure size 432x288 with 1 Axes>"
      ]
     },
     "metadata": {
      "needs_background": "light"
     },
     "output_type": "display_data"
    },
    {
     "data": {
      "image/png": "[encoded data removed]",
      "text/plain": [
       "<Figure size 432x288 with 1 Axes>"
      ]
     },
     "metadata": {
      "needs_background": "light"
     },
     "output_type": "display_data"
    }
   ],
   "source": [
    "plt.figure()\n",
    "plt.title('Pressure AP-01')\n",
    "plt.plot(data_set['Press AP-01'], 'cyan')\n",
    "plt.figure()\n",
    "plt.title('Temperature AP-01')\n",
    "plt.plot(data_set['Temp AP-01'], 'red')"
   ]
  },
  {
   "cell_type": "code",
   "execution_count": 15,
   "metadata": {},
   "outputs": [
    {
     "name": "stdout",
     "output_type": "stream",
     "text": [
      "<class 'pandas.core.frame.DataFrame'>\n",
      "DatetimeIndex: 333 entries, 2009-01-08 to 2010-01-02\n",
      "Data columns (total 4 columns):\n",
      "Press AP-01    333 non-null float64\n",
      "Temp AP-01     333 non-null float64\n",
      "Oil            333 non-null float64\n",
      "Gas            333 non-null float64\n",
      "dtypes: float64(4)\n",
      "memory usage: 23.0 KB\n"
     ]
    }
   ],
   "source": [
    "data_set.info()"
   ]
  },
  {
   "cell_type": "markdown",
   "metadata": {},
   "source": [
    "<font color='Black' size='4px'>Gráficas de los valores de producción</font>"
   ]
  },
  {
   "cell_type": "code",
   "execution_count": 16,
   "metadata": {},
   "outputs": [
    {
     "data": {
      "image/png": "[encoded data removed]",
      "text/plain": [
       "<Figure size 432x288 with 1 Axes>"
      ]
     },
     "metadata": {
      "needs_background": "light"
     },
     "output_type": "display_data"
    }
   ],
   "source": [
    "from sklearn.preprocessing import MinMaxScaler\n",
    "\n",
    "maft_oil = data_set['Oil']\n",
    "matf_press = data_set['Gas']\n",
    "\n",
    "matf_press = matf_press.values.reshape(len(matf_press), 1)\n",
    "maft_oil = maft_oil.values.reshape(len(maft_oil), 1)\n",
    "\n",
    "# Normalización de los datos\n",
    "\n",
    "sc = MinMaxScaler(feature_range=(0,1))\n",
    "\n",
    "maft_oil = sc.fit_transform(maft_oil)\n",
    "matf_press = sc.fit_transform(matf_press)\n",
    "\n",
    "plt.title('Accumulative oil and gas production')\n",
    "plt.plot(matf_press)\n",
    "plt.plot(maft_oil)\n",
    "plt.show()"
   ]
  },
  {
   "cell_type": "code",
   "execution_count": 17,
   "metadata": {},
   "outputs": [],
   "source": [
    "dataset = data_set.iloc[:,0:3].values\n",
    "dataset = sc.fit_transform(dataset)\n",
    "# split into train and test sets\n",
    "train_size = int(len(dataset) * 0.67) \n",
    "test_size = len(dataset) - train_size\n",
    "\n",
    "train, test = dataset[test_size:len(dataset)], dataset[train_size:len(dataset)]"
   ]
  },
  {
   "cell_type": "code",
   "execution_count": 18,
   "metadata": {},
   "outputs": [
    {
     "name": "stdout",
     "output_type": "stream",
     "text": [
      "Train and Test shape (223, 3) (110, 3)\n"
     ]
    }
   ],
   "source": [
    "print(\"Train and Test shape {} {}\".format(train.shape, test.shape))"
   ]
  },
  {
   "cell_type": "markdown",
   "metadata": {},
   "source": [
    "<font color='Black' size='4px'>Normalización de los datos</font>"
   ]
  },
  {
   "cell_type": "code",
   "execution_count": 31,
   "metadata": {},
   "outputs": [],
   "source": [
    "X_train, y_train = [], []\n",
    "for i in range(60, len(train)):\n",
    "    X_train.append(train[i-60:i,0])\n",
    "    y_train.append(train[i,2:3])"
   ]
  },
  {
   "cell_type": "code",
   "execution_count": 32,
   "metadata": {},
   "outputs": [],
   "source": [
    "X_train, y_train = np.array(X_train), np.array(y_train)"
   ]
  },
  {
   "cell_type": "code",
   "execution_count": 33,
   "metadata": {},
   "outputs": [],
   "source": [
    "X_train = np.reshape(X_train, (X_train.shape[0], X_train.shape[1], 1))"
   ]
  },
  {
   "cell_type": "code",
   "execution_count": 34,
   "metadata": {},
   "outputs": [
    {
     "data": {
      "text/plain": [
       "(163, 60, 1)"
      ]
     },
     "execution_count": 34,
     "metadata": {},
     "output_type": "execute_result"
    }
   ],
   "source": [
    "X_train.shape"
   ]
  },
  {
   "cell_type": "markdown",
   "metadata": {},
   "source": [
    "<font color='#232323' size='5px'>Recurrent Neural Network Model</font>"
   ]
  },
  {
   "cell_type": "code",
   "execution_count": 35,
   "metadata": {},
   "outputs": [
    {
     "name": "stdout",
     "output_type": "stream",
     "text": [
      "WARNING:tensorflow:From /home/rafael/anaconda3/lib/python3.7/site-packages/tensorflow/python/ops/resource_variable_ops.py:435: colocate_with (from tensorflow.python.framework.ops) is deprecated and will be removed in a future version.\n",
      "Instructions for updating:\n",
      "Colocations handled automatically by placer.\n",
      "WARNING:tensorflow:From /home/rafael/anaconda3/lib/python3.7/site-packages/tensorflow/python/keras/layers/core.py:143: calling dropout (from tensorflow.python.ops.nn_ops) with keep_prob is deprecated and will be removed in a future version.\n",
      "Instructions for updating:\n",
      "Please use `rate` instead of `keep_prob`. Rate should be set to `rate = 1 - keep_prob`.\n",
      "WARNING:tensorflow:From /home/rafael/anaconda3/lib/python3.7/site-packages/tensorflow/python/keras/utils/losses_utils.py:170: to_float (from tensorflow.python.ops.math_ops) is deprecated and will be removed in a future version.\n",
      "Instructions for updating:\n",
      "Use tf.cast instead.\n"
     ]
    }
   ],
   "source": [
    "# Model\n",
    "regresor = Sequential()\n",
    "# Layers\n",
    "regresor.add(LSTM(50, return_sequences = True, input_shape=(60,1)))\n",
    "regresor.add(Dropout(.2))\n",
    "regresor.add(LSTM(50, return_sequences = True))\n",
    "regresor.add(Dropout(.2))\n",
    "regresor.add(LSTM(50, return_sequences = False))\n",
    "regresor.add(Dense(1))\n",
    "#Optimizer\n",
    "from tensorflow.keras.optimizers import Adam\n",
    "opt = Adam(lr=1e-3, decay=1e-5)\n",
    "# Compile\n",
    "regresor.compile(optimizer=opt, loss='mean_squared_error', metrics=['accuracy'])"
   ]
  },
  {
   "cell_type": "code",
   "execution_count": 36,
   "metadata": {},
   "outputs": [
    {
     "name": "stdout",
     "output_type": "stream",
     "text": [
      "WARNING:tensorflow:From /home/rafael/anaconda3/lib/python3.7/site-packages/tensorflow/python/ops/math_ops.py:3066: to_int32 (from tensorflow.python.ops.math_ops) is deprecated and will be removed in a future version.\n",
      "Instructions for updating:\n",
      "Use tf.cast instead.\n",
      "Epoch 1/200\n",
      "163/163 [==============================] - 5s 32ms/sample - loss: 0.4770 - acc: 0.0000e+00\n",
      "Epoch 2/200\n",
      "163/163 [==============================] - 1s 7ms/sample - loss: 0.1108 - acc: 0.0061\n",
      "Epoch 3/200\n",
      "163/163 [==============================] - 1s 8ms/sample - loss: 0.0498 - acc: 0.0000e+00\n",
      "Epoch 4/200\n",
      "163/163 [==============================] - 1s 8ms/sample - loss: 0.0535 - acc: 0.0000e+00\n",
      "Epoch 5/200\n",
      "163/163 [==============================] - 1s 7ms/sample - loss: 0.0378 - acc: 0.0061\n",
      "Epoch 6/200\n",
      "163/163 [==============================] - 1s 7ms/sample - loss: 0.0346 - acc: 0.0061\n",
      "Epoch 7/200\n",
      "163/163 [==============================] - 1s 7ms/sample - loss: 0.0340 - acc: 0.0061\n",
      "Epoch 8/200\n",
      "163/163 [==============================] - 1s 8ms/sample - loss: 0.0291 - acc: 0.0061\n",
      "Epoch 9/200\n",
      "163/163 [==============================] - 1s 8ms/sample - loss: 0.0291 - acc: 0.0061\n",
      "Epoch 10/200\n",
      "163/163 [==============================] - 1s 8ms/sample - loss: 0.0261 - acc: 0.0061\n",
      "Epoch 11/200\n",
      "163/163 [==============================] - 1s 8ms/sample - loss: 0.0260 - acc: 0.0061\n",
      "Epoch 12/200\n",
      "163/163 [==============================] - 1s 8ms/sample - loss: 0.0265 - acc: 0.0061\n",
      "Epoch 13/200\n",
      "163/163 [==============================] - 1s 8ms/sample - loss: 0.0238 - acc: 0.0061\n",
      "Epoch 14/200\n",
      "163/163 [==============================] - 1s 8ms/sample - loss: 0.0238 - acc: 0.0061\n",
      "Epoch 15/200\n",
      "163/163 [==============================] - 1s 8ms/sample - loss: 0.0224 - acc: 0.0061\n",
      "Epoch 16/200\n",
      "163/163 [==============================] - 1s 8ms/sample - loss: 0.0216 - acc: 0.0061\n",
      "Epoch 17/200\n",
      "163/163 [==============================] - 1s 8ms/sample - loss: 0.0200 - acc: 0.0061\n",
      "Epoch 18/200\n",
      "163/163 [==============================] - 1s 8ms/sample - loss: 0.0193 - acc: 0.0061\n",
      "Epoch 19/200\n",
      "163/163 [==============================] - 1s 8ms/sample - loss: 0.0188 - acc: 0.0061\n",
      "Epoch 20/200\n",
      "163/163 [==============================] - 1s 8ms/sample - loss: 0.0187 - acc: 0.0061\n",
      "Epoch 21/200\n",
      "163/163 [==============================] - 1s 8ms/sample - loss: 0.0160 - acc: 0.0061\n",
      "Epoch 22/200\n",
      "163/163 [==============================] - 1s 8ms/sample - loss: 0.0145 - acc: 0.0061\n",
      "Epoch 23/200\n",
      "163/163 [==============================] - 1s 8ms/sample - loss: 0.0115 - acc: 0.0061\n",
      "Epoch 24/200\n",
      "163/163 [==============================] - 1s 8ms/sample - loss: 0.0086 - acc: 0.0061\n",
      "Epoch 25/200\n",
      "163/163 [==============================] - 1s 8ms/sample - loss: 0.0067 - acc: 0.0061\n",
      "Epoch 26/200\n",
      "163/163 [==============================] - 1s 9ms/sample - loss: 0.0051 - acc: 0.0061\n",
      "Epoch 27/200\n",
      "163/163 [==============================] - 1s 9ms/sample - loss: 0.0047 - acc: 0.0061\n",
      "Epoch 28/200\n",
      "163/163 [==============================] - 1s 8ms/sample - loss: 0.0063 - acc: 0.0061\n",
      "Epoch 29/200\n",
      "163/163 [==============================] - 1s 9ms/sample - loss: 0.0039 - acc: 0.0061\n",
      "Epoch 30/200\n",
      "163/163 [==============================] - 1s 8ms/sample - loss: 0.0031 - acc: 0.0061\n",
      "Epoch 31/200\n",
      "163/163 [==============================] - 2s 9ms/sample - loss: 0.0045 - acc: 0.0061\n",
      "Epoch 32/200\n",
      "163/163 [==============================] - 1s 9ms/sample - loss: 0.0030 - acc: 0.0061\n",
      "Epoch 33/200\n",
      "163/163 [==============================] - 1s 8ms/sample - loss: 0.0040 - acc: 0.0061\n",
      "Epoch 34/200\n",
      "163/163 [==============================] - 1s 8ms/sample - loss: 0.0029 - acc: 0.0061\n",
      "Epoch 35/200\n",
      "163/163 [==============================] - 1s 9ms/sample - loss: 0.0031 - acc: 0.0061\n",
      "Epoch 36/200\n",
      "163/163 [==============================] - 2s 10ms/sample - loss: 0.0029 - acc: 0.0061\n",
      "Epoch 37/200\n",
      "163/163 [==============================] - 1s 8ms/sample - loss: 0.0020 - acc: 0.0061\n",
      "Epoch 38/200\n",
      "163/163 [==============================] - 1s 8ms/sample - loss: 0.0032 - acc: 0.0061\n",
      "Epoch 39/200\n",
      "163/163 [==============================] - 1s 7ms/sample - loss: 0.0040 - acc: 0.0061\n",
      "Epoch 40/200\n",
      "163/163 [==============================] - 1s 7ms/sample - loss: 0.0040 - acc: 0.0061\n",
      "Epoch 41/200\n",
      "163/163 [==============================] - 1s 7ms/sample - loss: 0.0064 - acc: 0.0061\n",
      "Epoch 42/200\n",
      "163/163 [==============================] - 1s 7ms/sample - loss: 0.0029 - acc: 0.0061\n",
      "Epoch 43/200\n",
      "163/163 [==============================] - 1s 8ms/sample - loss: 0.0031 - acc: 0.0061\n",
      "Epoch 44/200\n",
      "163/163 [==============================] - 1s 8ms/sample - loss: 0.0021 - acc: 0.0061\n",
      "Epoch 45/200\n",
      "163/163 [==============================] - 2s 9ms/sample - loss: 0.0017 - acc: 0.0061\n",
      "Epoch 46/200\n",
      "163/163 [==============================] - 1s 9ms/sample - loss: 0.0017 - acc: 0.0061\n",
      "Epoch 47/200\n",
      "163/163 [==============================] - 1s 8ms/sample - loss: 0.0017 - acc: 0.0061\n",
      "Epoch 48/200\n",
      "163/163 [==============================] - 1s 8ms/sample - loss: 0.0016 - acc: 0.0061\n",
      "Epoch 49/200\n",
      "163/163 [==============================] - 1s 9ms/sample - loss: 0.0027 - acc: 0.0061\n",
      "Epoch 50/200\n",
      "163/163 [==============================] - 1s 9ms/sample - loss: 0.0033 - acc: 0.0061\n",
      "Epoch 51/200\n",
      "163/163 [==============================] - 1s 8ms/sample - loss: 0.0033 - acc: 0.0061\n",
      "Epoch 52/200\n",
      "163/163 [==============================] - 1s 8ms/sample - loss: 0.0018 - acc: 0.0061\n",
      "Epoch 53/200\n",
      "163/163 [==============================] - 1s 8ms/sample - loss: 0.0023 - acc: 0.0061\n",
      "Epoch 54/200\n",
      "163/163 [==============================] - 1s 8ms/sample - loss: 0.0022 - acc: 0.0061\n",
      "Epoch 55/200\n",
      "163/163 [==============================] - 1s 8ms/sample - loss: 0.0024 - acc: 0.0061\n",
      "Epoch 56/200\n",
      "163/163 [==============================] - 1s 8ms/sample - loss: 0.0025 - acc: 0.0061\n",
      "Epoch 57/200\n",
      "163/163 [==============================] - 1s 8ms/sample - loss: 0.0019 - acc: 0.0061\n",
      "Epoch 58/200\n",
      "163/163 [==============================] - 1s 8ms/sample - loss: 0.0022 - acc: 0.0061\n",
      "Epoch 59/200\n",
      "163/163 [==============================] - 1s 8ms/sample - loss: 0.0015 - acc: 0.0061\n",
      "Epoch 60/200\n",
      "163/163 [==============================] - 1s 8ms/sample - loss: 0.0016 - acc: 0.0061\n",
      "Epoch 61/200\n",
      "163/163 [==============================] - 1s 8ms/sample - loss: 0.0015 - acc: 0.0061\n",
      "Epoch 62/200\n",
      "163/163 [==============================] - 1s 8ms/sample - loss: 0.0015 - acc: 0.0061\n",
      "Epoch 63/200\n",
      "163/163 [==============================] - 1s 8ms/sample - loss: 0.0018 - acc: 0.0061\n",
      "Epoch 64/200\n",
      "163/163 [==============================] - 1s 8ms/sample - loss: 0.0026 - acc: 0.0061\n",
      "Epoch 65/200\n",
      "163/163 [==============================] - 1s 8ms/sample - loss: 0.0017 - acc: 0.0061\n",
      "Epoch 66/200\n",
      "163/163 [==============================] - 1s 8ms/sample - loss: 0.0015 - acc: 0.0061\n",
      "Epoch 67/200\n",
      "163/163 [==============================] - 1s 8ms/sample - loss: 0.0014 - acc: 0.0061\n",
      "Epoch 68/200\n",
      "163/163 [==============================] - 1s 8ms/sample - loss: 0.0012 - acc: 0.0061\n",
      "Epoch 69/200\n",
      "163/163 [==============================] - 1s 8ms/sample - loss: 0.0013 - acc: 0.0061\n",
      "Epoch 70/200\n",
      "163/163 [==============================] - 1s 8ms/sample - loss: 0.0017 - acc: 0.0061\n",
      "Epoch 71/200\n",
      "163/163 [==============================] - 1s 8ms/sample - loss: 0.0024 - acc: 0.0061\n",
      "Epoch 72/200\n",
      "163/163 [==============================] - 1s 8ms/sample - loss: 0.0015 - acc: 0.0061\n",
      "Epoch 73/200\n",
      "163/163 [==============================] - 1s 8ms/sample - loss: 0.0015 - acc: 0.0061\n",
      "Epoch 74/200\n",
      "163/163 [==============================] - 1s 8ms/sample - loss: 0.0014 - acc: 0.0061\n",
      "Epoch 75/200\n",
      "163/163 [==============================] - 1s 8ms/sample - loss: 0.0014 - acc: 0.0061\n",
      "Epoch 76/200\n",
      "163/163 [==============================] - 1s 8ms/sample - loss: 0.0011 - acc: 0.0061\n",
      "Epoch 77/200\n",
      "163/163 [==============================] - 1s 8ms/sample - loss: 0.0011 - acc: 0.0061\n",
      "Epoch 78/200\n",
      "163/163 [==============================] - 1s 8ms/sample - loss: 0.0012 - acc: 0.0061\n",
      "Epoch 79/200\n",
      "163/163 [==============================] - 1s 8ms/sample - loss: 0.0022 - acc: 0.0061\n",
      "Epoch 80/200\n",
      "163/163 [==============================] - 1s 8ms/sample - loss: 0.0031 - acc: 0.0061\n",
      "Epoch 81/200\n"
     ]
    },
    {
     "name": "stdout",
     "output_type": "stream",
     "text": [
      "163/163 [==============================] - 1s 8ms/sample - loss: 0.0020 - acc: 0.0061\n",
      "Epoch 82/200\n",
      "163/163 [==============================] - 1s 8ms/sample - loss: 0.0020 - acc: 0.0061\n",
      "Epoch 83/200\n",
      "163/163 [==============================] - 1s 8ms/sample - loss: 0.0011 - acc: 0.0061\n",
      "Epoch 84/200\n",
      "163/163 [==============================] - 1s 8ms/sample - loss: 0.0012 - acc: 0.0061\n",
      "Epoch 85/200\n",
      "163/163 [==============================] - 1s 8ms/sample - loss: 0.0012 - acc: 0.0061\n",
      "Epoch 86/200\n",
      "163/163 [==============================] - 1s 8ms/sample - loss: 0.0027 - acc: 0.0061\n",
      "Epoch 87/200\n",
      "163/163 [==============================] - 1s 8ms/sample - loss: 0.0011 - acc: 0.0061\n",
      "Epoch 88/200\n",
      "163/163 [==============================] - 1s 8ms/sample - loss: 0.0014 - acc: 0.0061\n",
      "Epoch 89/200\n",
      "163/163 [==============================] - 1s 8ms/sample - loss: 0.0015 - acc: 0.0061\n",
      "Epoch 90/200\n",
      "163/163 [==============================] - 1s 8ms/sample - loss: 9.9960e-04 - acc: 0.0061\n",
      "Epoch 91/200\n",
      "163/163 [==============================] - 1s 8ms/sample - loss: 0.0018 - acc: 0.0061\n",
      "Epoch 92/200\n",
      "163/163 [==============================] - 1s 8ms/sample - loss: 0.0021 - acc: 0.0061\n",
      "Epoch 93/200\n",
      "163/163 [==============================] - 1s 8ms/sample - loss: 0.0035 - acc: 0.0061\n",
      "Epoch 94/200\n",
      "163/163 [==============================] - 1s 8ms/sample - loss: 0.0032 - acc: 0.0061\n",
      "Epoch 95/200\n",
      "163/163 [==============================] - 1s 8ms/sample - loss: 0.0017 - acc: 0.0061\n",
      "Epoch 96/200\n",
      "163/163 [==============================] - 1s 8ms/sample - loss: 0.0022 - acc: 0.0061\n",
      "Epoch 97/200\n",
      "163/163 [==============================] - 1s 8ms/sample - loss: 0.0013 - acc: 0.0061\n",
      "Epoch 98/200\n",
      "163/163 [==============================] - 1s 8ms/sample - loss: 0.0015 - acc: 0.0061\n",
      "Epoch 99/200\n",
      "163/163 [==============================] - 1s 8ms/sample - loss: 0.0011 - acc: 0.0061\n",
      "Epoch 100/200\n",
      "163/163 [==============================] - 1s 8ms/sample - loss: 0.0014 - acc: 0.0061\n",
      "Epoch 101/200\n",
      "163/163 [==============================] - 1s 8ms/sample - loss: 0.0017 - acc: 0.0061\n",
      "Epoch 102/200\n",
      "163/163 [==============================] - 1s 8ms/sample - loss: 0.0017 - acc: 0.0061\n",
      "Epoch 103/200\n",
      "163/163 [==============================] - 1s 8ms/sample - loss: 0.0020 - acc: 0.0061\n",
      "Epoch 104/200\n",
      "163/163 [==============================] - 1s 8ms/sample - loss: 0.0021 - acc: 0.0061\n",
      "Epoch 105/200\n",
      "163/163 [==============================] - 1s 8ms/sample - loss: 0.0015 - acc: 0.0061\n",
      "Epoch 106/200\n",
      "163/163 [==============================] - 1s 8ms/sample - loss: 9.0412e-04 - acc: 0.0061\n",
      "Epoch 107/200\n",
      "163/163 [==============================] - 1s 8ms/sample - loss: 0.0012 - acc: 0.0061\n",
      "Epoch 108/200\n",
      "163/163 [==============================] - 1s 8ms/sample - loss: 0.0016 - acc: 0.0061\n",
      "Epoch 109/200\n",
      "163/163 [==============================] - 1s 8ms/sample - loss: 9.6107e-04 - acc: 0.0061\n",
      "Epoch 110/200\n",
      "163/163 [==============================] - 1s 8ms/sample - loss: 0.0012 - acc: 0.0061\n",
      "Epoch 111/200\n",
      "163/163 [==============================] - 1s 8ms/sample - loss: 9.4766e-04 - acc: 0.0061\n",
      "Epoch 112/200\n",
      "163/163 [==============================] - 1s 8ms/sample - loss: 0.0011 - acc: 0.0061 \n",
      "Epoch 113/200\n",
      "163/163 [==============================] - 1s 7ms/sample - loss: 0.0011 - acc: 0.0061\n",
      "Epoch 114/200\n",
      "163/163 [==============================] - 1s 7ms/sample - loss: 0.0013 - acc: 0.0061\n",
      "Epoch 115/200\n",
      "163/163 [==============================] - 1s 7ms/sample - loss: 9.1737e-04 - acc: 0.0061\n",
      "Epoch 116/200\n",
      "163/163 [==============================] - 1s 8ms/sample - loss: 0.0016 - acc: 0.0061\n",
      "Epoch 117/200\n",
      "163/163 [==============================] - 1s 8ms/sample - loss: 0.0014 - acc: 0.0061\n",
      "Epoch 118/200\n",
      "163/163 [==============================] - 1s 8ms/sample - loss: 0.0012 - acc: 0.0061\n",
      "Epoch 119/200\n",
      "163/163 [==============================] - 1s 8ms/sample - loss: 9.1153e-04 - acc: 0.0061\n",
      "Epoch 120/200\n",
      "163/163 [==============================] - 1s 8ms/sample - loss: 0.0011 - acc: 0.0061\n",
      "Epoch 121/200\n",
      "163/163 [==============================] - 1s 8ms/sample - loss: 0.0012 - acc: 0.0061\n",
      "Epoch 122/200\n",
      "163/163 [==============================] - 1s 8ms/sample - loss: 0.0021 - acc: 0.0061\n",
      "Epoch 123/200\n",
      "163/163 [==============================] - 1s 8ms/sample - loss: 0.0012 - acc: 0.0061\n",
      "Epoch 124/200\n",
      "163/163 [==============================] - 1s 8ms/sample - loss: 0.0012 - acc: 0.0061\n",
      "Epoch 125/200\n",
      "163/163 [==============================] - 1s 8ms/sample - loss: 8.7034e-04 - acc: 0.0061\n",
      "Epoch 126/200\n",
      "163/163 [==============================] - 1s 8ms/sample - loss: 0.0011 - acc: 0.0061\n",
      "Epoch 127/200\n",
      "163/163 [==============================] - 1s 8ms/sample - loss: 8.6650e-04 - acc: 0.0061\n",
      "Epoch 128/200\n",
      "163/163 [==============================] - 1s 8ms/sample - loss: 0.0012 - acc: 0.0061\n",
      "Epoch 129/200\n",
      "163/163 [==============================] - 1s 8ms/sample - loss: 0.0012 - acc: 0.0061\n",
      "Epoch 130/200\n",
      "163/163 [==============================] - 1s 8ms/sample - loss: 8.9597e-04 - acc: 0.0061\n",
      "Epoch 131/200\n",
      "163/163 [==============================] - 1s 8ms/sample - loss: 0.0013 - acc: 0.0061\n",
      "Epoch 132/200\n",
      "163/163 [==============================] - 1s 8ms/sample - loss: 8.8264e-04 - acc: 0.0061\n",
      "Epoch 133/200\n",
      "163/163 [==============================] - 1s 8ms/sample - loss: 0.0010 - acc: 0.0061\n",
      "Epoch 134/200\n",
      "163/163 [==============================] - 1s 8ms/sample - loss: 8.3126e-04 - acc: 0.0061\n",
      "Epoch 135/200\n",
      "163/163 [==============================] - 1s 8ms/sample - loss: 9.2321e-04 - acc: 0.0061\n",
      "Epoch 136/200\n",
      "163/163 [==============================] - 1s 8ms/sample - loss: 8.3028e-04 - acc: 0.0061\n",
      "Epoch 137/200\n",
      "163/163 [==============================] - 1s 8ms/sample - loss: 0.0013 - acc: 0.0061\n",
      "Epoch 138/200\n",
      "163/163 [==============================] - 1s 8ms/sample - loss: 0.0016 - acc: 0.0061\n",
      "Epoch 139/200\n",
      "163/163 [==============================] - 1s 8ms/sample - loss: 0.0014 - acc: 0.0061\n",
      "Epoch 140/200\n",
      "163/163 [==============================] - 1s 8ms/sample - loss: 0.0015 - acc: 0.0061\n",
      "Epoch 141/200\n",
      "163/163 [==============================] - 1s 8ms/sample - loss: 0.0020 - acc: 0.0061\n",
      "Epoch 142/200\n",
      "163/163 [==============================] - 1s 8ms/sample - loss: 0.0011 - acc: 0.0061\n",
      "Epoch 143/200\n",
      "163/163 [==============================] - 1s 8ms/sample - loss: 0.0010 - acc: 0.0061\n",
      "Epoch 144/200\n",
      "163/163 [==============================] - 1s 8ms/sample - loss: 9.9881e-04 - acc: 0.0061\n",
      "Epoch 145/200\n",
      "163/163 [==============================] - 1s 8ms/sample - loss: 0.0013 - acc: 0.0061\n",
      "Epoch 146/200\n",
      "163/163 [==============================] - 1s 8ms/sample - loss: 0.0013 - acc: 0.0061\n",
      "Epoch 147/200\n",
      "163/163 [==============================] - 1s 8ms/sample - loss: 0.0011 - acc: 0.0061\n",
      "Epoch 148/200\n",
      "163/163 [==============================] - 1s 8ms/sample - loss: 0.0011 - acc: 0.0061\n",
      "Epoch 149/200\n",
      "163/163 [==============================] - 1s 8ms/sample - loss: 0.0016 - acc: 0.0061\n",
      "Epoch 150/200\n",
      "163/163 [==============================] - 1s 8ms/sample - loss: 0.0012 - acc: 0.0061\n",
      "Epoch 151/200\n",
      "163/163 [==============================] - 1s 8ms/sample - loss: 9.0445e-04 - acc: 0.0061\n",
      "Epoch 152/200\n",
      "163/163 [==============================] - 1s 8ms/sample - loss: 9.3605e-04 - acc: 0.0061\n",
      "Epoch 153/200\n",
      "163/163 [==============================] - 1s 8ms/sample - loss: 9.7928e-04 - acc: 0.0061\n",
      "Epoch 154/200\n",
      "163/163 [==============================] - 1s 8ms/sample - loss: 9.4021e-04 - acc: 0.0061\n",
      "Epoch 155/200\n",
      "163/163 [==============================] - 1s 8ms/sample - loss: 0.0017 - acc: 0.0061\n",
      "Epoch 156/200\n",
      "163/163 [==============================] - 1s 8ms/sample - loss: 0.0011 - acc: 0.0061\n",
      "Epoch 157/200\n",
      "163/163 [==============================] - 1s 8ms/sample - loss: 9.2008e-04 - acc: 0.0061\n",
      "Epoch 158/200\n",
      "163/163 [==============================] - 1s 8ms/sample - loss: 8.5095e-04 - acc: 0.0061\n",
      "Epoch 159/200\n",
      "163/163 [==============================] - 1s 8ms/sample - loss: 8.0665e-04 - acc: 0.0061\n",
      "Epoch 160/200\n",
      "163/163 [==============================] - 1s 8ms/sample - loss: 0.0010 - acc: 0.0061\n",
      "Epoch 161/200\n",
      "163/163 [==============================] - 1s 8ms/sample - loss: 0.0016 - acc: 0.0061\n",
      "Epoch 162/200\n"
     ]
    },
    {
     "name": "stdout",
     "output_type": "stream",
     "text": [
      "163/163 [==============================] - 1s 8ms/sample - loss: 0.0013 - acc: 0.0061\n",
      "Epoch 163/200\n",
      "163/163 [==============================] - 1s 8ms/sample - loss: 0.0014 - acc: 0.0061\n",
      "Epoch 164/200\n",
      "163/163 [==============================] - 1s 8ms/sample - loss: 0.0026 - acc: 0.0061\n",
      "Epoch 165/200\n",
      "163/163 [==============================] - 1s 8ms/sample - loss: 0.0017 - acc: 0.0061\n",
      "Epoch 166/200\n",
      "163/163 [==============================] - 1s 8ms/sample - loss: 0.0010 - acc: 0.0061\n",
      "Epoch 167/200\n",
      "163/163 [==============================] - 1s 8ms/sample - loss: 9.8266e-04 - acc: 0.0061\n",
      "Epoch 168/200\n",
      "163/163 [==============================] - 1s 8ms/sample - loss: 0.0013 - acc: 0.0061\n",
      "Epoch 169/200\n",
      "163/163 [==============================] - 1s 8ms/sample - loss: 0.0014 - acc: 0.0061\n",
      "Epoch 170/200\n",
      "163/163 [==============================] - 1s 8ms/sample - loss: 0.0015 - acc: 0.0061\n",
      "Epoch 171/200\n",
      "163/163 [==============================] - 1s 8ms/sample - loss: 0.0011 - acc: 0.0061\n",
      "Epoch 172/200\n",
      "163/163 [==============================] - 1s 8ms/sample - loss: 0.0011 - acc: 0.0061\n",
      "Epoch 173/200\n",
      "163/163 [==============================] - 1s 8ms/sample - loss: 7.4199e-04 - acc: 0.0061\n",
      "Epoch 174/200\n",
      "163/163 [==============================] - 1s 8ms/sample - loss: 0.0010 - acc: 0.0061\n",
      "Epoch 175/200\n",
      "163/163 [==============================] - 1s 8ms/sample - loss: 0.0023 - acc: 0.0061\n",
      "Epoch 176/200\n",
      "163/163 [==============================] - 1s 8ms/sample - loss: 0.0014 - acc: 0.0061\n",
      "Epoch 177/200\n",
      "163/163 [==============================] - 1s 8ms/sample - loss: 0.0013 - acc: 0.0061\n",
      "Epoch 178/200\n",
      "163/163 [==============================] - 1s 8ms/sample - loss: 0.0012 - acc: 0.0061\n",
      "Epoch 179/200\n",
      "163/163 [==============================] - 1s 8ms/sample - loss: 9.1441e-04 - acc: 0.0061\n",
      "Epoch 180/200\n",
      "163/163 [==============================] - 1s 7ms/sample - loss: 8.2888e-04 - acc: 0.0061\n",
      "Epoch 181/200\n",
      "163/163 [==============================] - 1s 7ms/sample - loss: 0.0016 - acc: 0.0061\n",
      "Epoch 182/200\n",
      "163/163 [==============================] - 1s 7ms/sample - loss: 0.0014 - acc: 0.0061\n",
      "Epoch 183/200\n",
      "163/163 [==============================] - 1s 7ms/sample - loss: 0.0012 - acc: 0.0061\n",
      "Epoch 184/200\n",
      "163/163 [==============================] - 1s 7ms/sample - loss: 9.4234e-04 - acc: 0.0061\n",
      "Epoch 185/200\n",
      "163/163 [==============================] - 1s 7ms/sample - loss: 9.0610e-04 - acc: 0.0061\n",
      "Epoch 186/200\n",
      "163/163 [==============================] - 1s 7ms/sample - loss: 7.8173e-04 - acc: 0.0061\n",
      "Epoch 187/200\n",
      "163/163 [==============================] - 1s 7ms/sample - loss: 0.0012 - acc: 0.0061\n",
      "Epoch 188/200\n",
      "163/163 [==============================] - 1s 7ms/sample - loss: 7.4701e-04 - acc: 0.0061\n",
      "Epoch 189/200\n",
      "163/163 [==============================] - 1s 7ms/sample - loss: 8.7705e-04 - acc: 0.0061\n",
      "Epoch 190/200\n",
      "163/163 [==============================] - 1s 7ms/sample - loss: 9.5051e-04 - acc: 0.0061\n",
      "Epoch 191/200\n",
      "163/163 [==============================] - 1s 8ms/sample - loss: 7.7671e-04 - acc: 0.0061\n",
      "Epoch 192/200\n",
      "163/163 [==============================] - 1s 7ms/sample - loss: 0.0010 - acc: 0.0061\n",
      "Epoch 193/200\n",
      "163/163 [==============================] - 1s 7ms/sample - loss: 8.7472e-04 - acc: 0.0061\n",
      "Epoch 194/200\n",
      "163/163 [==============================] - 1s 7ms/sample - loss: 7.2219e-04 - acc: 0.0061\n",
      "Epoch 195/200\n",
      "163/163 [==============================] - 1s 7ms/sample - loss: 7.7307e-04 - acc: 0.0061\n",
      "Epoch 196/200\n",
      "163/163 [==============================] - 1s 7ms/sample - loss: 9.1957e-04 - acc: 0.0061\n",
      "Epoch 197/200\n",
      "163/163 [==============================] - 1s 7ms/sample - loss: 8.6918e-04 - acc: 0.0061\n",
      "Epoch 198/200\n",
      "163/163 [==============================] - 1s 7ms/sample - loss: 0.0013 - acc: 0.0061\n",
      "Epoch 199/200\n",
      "163/163 [==============================] - 1s 7ms/sample - loss: 6.7681e-04 - acc: 0.0061\n",
      "Epoch 200/200\n",
      "163/163 [==============================] - 1s 7ms/sample - loss: 6.6590e-04 - acc: 0.0061\n"
     ]
    }
   ],
   "source": [
    "# Entrenamiento\n",
    "history = regresor.fit(X_train, y_train, epochs = 200, batch_size=32)"
   ]
  },
  {
   "cell_type": "code",
   "execution_count": 37,
   "metadata": {},
   "outputs": [
    {
     "data": {
      "text/html": [
       "<div>\n",
       "<style scoped>\n",
       "    .dataframe tbody tr th:only-of-type {\n",
       "        vertical-align: middle;\n",
       "    }\n",
       "\n",
       "    .dataframe tbody tr th {\n",
       "        vertical-align: top;\n",
       "    }\n",
       "\n",
       "    .dataframe thead th {\n",
       "        text-align: right;\n",
       "    }\n",
       "</style>\n",
       "<table border=\"1\" class=\"dataframe\">\n",
       "  <thead>\n",
       "    <tr style=\"text-align: right;\">\n",
       "      <th></th>\n",
       "      <th>loss</th>\n",
       "      <th>acc</th>\n",
       "      <th>epoch</th>\n",
       "    </tr>\n",
       "  </thead>\n",
       "  <tbody>\n",
       "    <tr>\n",
       "      <th>195</th>\n",
       "      <td>0.000920</td>\n",
       "      <td>0.006135</td>\n",
       "      <td>195</td>\n",
       "    </tr>\n",
       "    <tr>\n",
       "      <th>196</th>\n",
       "      <td>0.000869</td>\n",
       "      <td>0.006135</td>\n",
       "      <td>196</td>\n",
       "    </tr>\n",
       "    <tr>\n",
       "      <th>197</th>\n",
       "      <td>0.001288</td>\n",
       "      <td>0.006135</td>\n",
       "      <td>197</td>\n",
       "    </tr>\n",
       "    <tr>\n",
       "      <th>198</th>\n",
       "      <td>0.000677</td>\n",
       "      <td>0.006135</td>\n",
       "      <td>198</td>\n",
       "    </tr>\n",
       "    <tr>\n",
       "      <th>199</th>\n",
       "      <td>0.000666</td>\n",
       "      <td>0.006135</td>\n",
       "      <td>199</td>\n",
       "    </tr>\n",
       "  </tbody>\n",
       "</table>\n",
       "</div>"
      ],
      "text/plain": [
       "         loss       acc  epoch\n",
       "195  0.000920  0.006135    195\n",
       "196  0.000869  0.006135    196\n",
       "197  0.001288  0.006135    197\n",
       "198  0.000677  0.006135    198\n",
       "199  0.000666  0.006135    199"
      ]
     },
     "execution_count": 37,
     "metadata": {},
     "output_type": "execute_result"
    }
   ],
   "source": [
    "hist = pd.DataFrame(history.history)\n",
    "hist['epoch'] = history.epoch\n",
    "hist.tail()"
   ]
  },
  {
   "cell_type": "code",
   "execution_count": 38,
   "metadata": {},
   "outputs": [
    {
     "data": {
      "image/png": "[encoded data removed]",
      "text/plain": [
       "<Figure size 432x288 with 1 Axes>"
      ]
     },
     "metadata": {
      "needs_background": "light"
     },
     "output_type": "display_data"
    }
   ],
   "source": [
    "import matplotlib.pyplot as plt\n",
    "\n",
    "def plot_history(history):\n",
    "    hist = pd.DataFrame(history.history)\n",
    "    hist['epoch'] = history.epoch\n",
    "\n",
    "    plt.figure()\n",
    "    plt.xlabel('Epoch')\n",
    "    plt.plot(hist['epoch'], hist['loss'],\n",
    "               label='Train Error')\n",
    "    plt.legend()\n",
    "    plt.show()\n",
    "\n",
    "plot_history(history)"
   ]
  },
  {
   "cell_type": "code",
   "execution_count": 137,
   "metadata": {},
   "outputs": [],
   "source": [
    "#prod_AP01 = Production('AP-03')\n",
    "# Contrucción del frame para valores de producción\n",
    "#well_prod_ap01 = prod_AP01.Frame()"
   ]
  },
  {
   "cell_type": "code",
   "execution_count": 51,
   "metadata": {},
   "outputs": [],
   "source": [
    "y_test = []\n",
    "for i in range(60, len(test)):\n",
    "    y_test.append(test[i-60:i,0])\n",
    "\n",
    "y_test = np.array(y_test)\n",
    "y_test = np.reshape(y_test, (y_test.shape[0], y_test.shape[1], 1))"
   ]
  },
  {
   "cell_type": "code",
   "execution_count": 52,
   "metadata": {},
   "outputs": [],
   "source": [
    "#well_prod_ap01.columns = [\"Date\", \"Oil\", \"Gas\"]\n",
    "#well_prod_ap01[\"Date\"] = pd.to_datetime(well_prod_ap01[\"Date\"], infer_datetime_format=True)"
   ]
  },
  {
   "cell_type": "code",
   "execution_count": 53,
   "metadata": {},
   "outputs": [],
   "source": [
    "#well_prod_ap01[[\"Oil\"]] = well_prod_ap01[[\"Oil\"]].astype(float)\n",
    "#data_test = well_prod_ap01.groupby(\"Date\").mean().dropna()"
   ]
  },
  {
   "cell_type": "code",
   "execution_count": 54,
   "metadata": {},
   "outputs": [],
   "source": [
    "#data_test = pd.DataFrame(data_test.sample(frac=0.3, random_state=0))\n",
    "\n",
    "#inputs = data_test.iloc[:,2:3].values\n",
    "\n",
    "#inputs = inputs.reshape(-1, 1)\n",
    "#inputs = sc.fit_transform(inputs)"
   ]
  },
  {
   "cell_type": "code",
   "execution_count": 55,
   "metadata": {},
   "outputs": [],
   "source": [
    "#X_test = []\n",
    "#for i in range(60, len(test)):\n",
    "#    X_test.append(test[i-60:i,0])\n",
    "\n",
    "#X_test = np.array(X_test)\n",
    "#X_test = np.reshape(X_test, (X_test.shape[0], X_test.shape[1], 1))\n",
    "predicted_prices = regresor.predict(y_test)"
   ]
  },
  {
   "cell_type": "code",
   "execution_count": 56,
   "metadata": {},
   "outputs": [],
   "source": [
    "oil_predicted = []\n",
    "\n",
    "for y_predicted in predicted_prices:\n",
    "    oil_predicted.append(y_predicted[0])\n",
    "\n",
    "oil_predicted = np.array(oil_predicted)"
   ]
  },
  {
   "cell_type": "code",
   "execution_count": 68,
   "metadata": {},
   "outputs": [],
   "source": [
    "test_real = np.array(test[:,2:3])\n",
    "test_real = test_real.reshape(-1,1)"
   ]
  },
  {
   "cell_type": "code",
   "execution_count": 69,
   "metadata": {},
   "outputs": [
    {
     "data": {
      "image/png": "[encoded data removed]",
      "text/plain": [
       "<Figure size 432x288 with 1 Axes>"
      ]
     },
     "metadata": {
      "needs_background": "light"
     },
     "output_type": "display_data"
    }
   ],
   "source": [
    "# Gráficas\n",
    "plt.figure()\n",
    "plt.title('Recurrent neural network model')\n",
    "plt.plot(test_real, color='red', label='Real Value')\n",
    "plt.plot(oil_predicted, 'k--', color='blue', label='Predicted Value')\n",
    "plt.legend()\n",
    "plt.xlim(0, len(oil_predicted))\n",
    "plt.show()"
   ]
  },
  {
   "cell_type": "code",
   "execution_count": 66,
   "metadata": {},
   "outputs": [],
   "source": []
  }
 ],
 "metadata": {
  "kernelspec": {
   "display_name": "Python 3",
   "language": "python",
   "name": "python3"
  },
  "language_info": {
   "codemirror_mode": {
    "name": "ipython",
    "version": 3
   },
   "file_extension": ".py",
   "mimetype": "text/x-python",
   "name": "python",
   "nbconvert_exporter": "python",
   "pygments_lexer": "ipython3",
   "version": "3.7.1"
  }
 },
 "nbformat": 4,
 "nbformat_minor": 2
}
